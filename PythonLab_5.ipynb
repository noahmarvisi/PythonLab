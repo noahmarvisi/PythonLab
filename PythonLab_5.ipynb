{
  "nbformat": 4,
  "nbformat_minor": 0,
  "metadata": {
    "colab": {
      "name": "PythonLab5.ipynb",
      "provenance": [],
      "collapsed_sections": []
    },
    "kernelspec": {
      "name": "python3",
      "display_name": "Python 3"
    },
    "language_info": {
      "name": "python"
    }
  },
  "cells": [
    {
      "cell_type": "markdown",
      "metadata": {
        "id": "w55haSmJDUk-"
      },
      "source": [
        "# Create a image source webscrapper and save it into a csv file"
      ]
    },
    {
      "cell_type": "code",
      "metadata": {
        "id": "aZMCRAq_DSW8"
      },
      "source": [
        "#import the module requests, beautifulSoup & pandas\n",
        "import requests\n",
        "from bs4 import BeautifulSoup\n",
        "import pandas as pd"
      ],
      "execution_count": 9,
      "outputs": []
    },
    {
      "cell_type": "code",
      "metadata": {
        "id": "mzU40iC0DfBL"
      },
      "source": [
        "#Serlect an url\n",
        "my_url = 'https://realpython.github.io/fake-jobs/'\n",
        "#get the information the url\n",
        "my_page = requests.get(my_url)\n",
        "#structure as a beautifulsoup object\n",
        "soup = BeautifulSoup(my_page.text)"
      ],
      "execution_count": 23,
      "outputs": []
    },
    {
      "cell_type": "code",
      "metadata": {
        "colab": {
          "base_uri": "https://localhost:8080/"
        },
        "id": "3AgYnf7tDkf6",
        "outputId": "ce17da06-7c2b-471d-f8af-3517942c3cec"
      },
      "source": [
        "#find all objects with the tag img\n",
        "all_img = soup.find_all('img')\n",
        "#display the 10 first images\n",
        "all_img[:10]"
      ],
      "execution_count": 24,
      "outputs": [
        {
          "output_type": "execute_result",
          "data": {
            "text/plain": [
              "[<img alt=\"Real Python Logo\" src=\"https://files.realpython.com/media/real-python-logo-thumbnail.7f0db70c2ed2.jpg?__no_cf_polish=1\"/>,\n",
              " <img alt=\"Real Python Logo\" src=\"https://files.realpython.com/media/real-python-logo-thumbnail.7f0db70c2ed2.jpg?__no_cf_polish=1\"/>,\n",
              " <img alt=\"Real Python Logo\" src=\"https://files.realpython.com/media/real-python-logo-thumbnail.7f0db70c2ed2.jpg?__no_cf_polish=1\"/>,\n",
              " <img alt=\"Real Python Logo\" src=\"https://files.realpython.com/media/real-python-logo-thumbnail.7f0db70c2ed2.jpg?__no_cf_polish=1\"/>,\n",
              " <img alt=\"Real Python Logo\" src=\"https://files.realpython.com/media/real-python-logo-thumbnail.7f0db70c2ed2.jpg?__no_cf_polish=1\"/>,\n",
              " <img alt=\"Real Python Logo\" src=\"https://files.realpython.com/media/real-python-logo-thumbnail.7f0db70c2ed2.jpg?__no_cf_polish=1\"/>,\n",
              " <img alt=\"Real Python Logo\" src=\"https://files.realpython.com/media/real-python-logo-thumbnail.7f0db70c2ed2.jpg?__no_cf_polish=1\"/>,\n",
              " <img alt=\"Real Python Logo\" src=\"https://files.realpython.com/media/real-python-logo-thumbnail.7f0db70c2ed2.jpg?__no_cf_polish=1\"/>,\n",
              " <img alt=\"Real Python Logo\" src=\"https://files.realpython.com/media/real-python-logo-thumbnail.7f0db70c2ed2.jpg?__no_cf_polish=1\"/>,\n",
              " <img alt=\"Real Python Logo\" src=\"https://files.realpython.com/media/real-python-logo-thumbnail.7f0db70c2ed2.jpg?__no_cf_polish=1\"/>]"
            ]
          },
          "metadata": {},
          "execution_count": 24
        }
      ]
    },
    {
      "cell_type": "code",
      "metadata": {
        "colab": {
          "base_uri": "https://localhost:8080/"
        },
        "id": "KcyNJJlWDr36",
        "outputId": "11a81211-d56a-43cf-b6cd-378b3bd5e759"
      },
      "source": [
        "#get only the link of the images\n",
        "link_img = [element.get('src') for element in all_img]\n",
        "#display the 10 first images\n",
        "link_img[:10]"
      ],
      "execution_count": 18,
      "outputs": [
        {
          "output_type": "execute_result",
          "data": {
            "text/plain": [
              "['https://files.realpython.com/media/real-python-logo-thumbnail.7f0db70c2ed2.jpg?__no_cf_polish=1',\n",
              " 'https://files.realpython.com/media/real-python-logo-thumbnail.7f0db70c2ed2.jpg?__no_cf_polish=1',\n",
              " 'https://files.realpython.com/media/real-python-logo-thumbnail.7f0db70c2ed2.jpg?__no_cf_polish=1',\n",
              " 'https://files.realpython.com/media/real-python-logo-thumbnail.7f0db70c2ed2.jpg?__no_cf_polish=1',\n",
              " 'https://files.realpython.com/media/real-python-logo-thumbnail.7f0db70c2ed2.jpg?__no_cf_polish=1',\n",
              " 'https://files.realpython.com/media/real-python-logo-thumbnail.7f0db70c2ed2.jpg?__no_cf_polish=1',\n",
              " 'https://files.realpython.com/media/real-python-logo-thumbnail.7f0db70c2ed2.jpg?__no_cf_polish=1',\n",
              " 'https://files.realpython.com/media/real-python-logo-thumbnail.7f0db70c2ed2.jpg?__no_cf_polish=1',\n",
              " 'https://files.realpython.com/media/real-python-logo-thumbnail.7f0db70c2ed2.jpg?__no_cf_polish=1',\n",
              " 'https://files.realpython.com/media/real-python-logo-thumbnail.7f0db70c2ed2.jpg?__no_cf_polish=1']"
            ]
          },
          "metadata": {},
          "execution_count": 18
        }
      ]
    },
    {
      "cell_type": "code",
      "metadata": {
        "colab": {
          "base_uri": "https://localhost:8080/"
        },
        "id": "M-2e2jI6DsrH",
        "outputId": "2fb6518b-3f9b-453c-96a8-082006d27507"
      },
      "source": [
        "#get the alternative text of each image\n",
        "alt_img = [element.get('alt') for element in all_img]\n",
        "#display the 10 first images\n",
        "alt_img[:10]"
      ],
      "execution_count": 17,
      "outputs": [
        {
          "output_type": "execute_result",
          "data": {
            "text/plain": [
              "['Real Python Logo',\n",
              " 'Real Python Logo',\n",
              " 'Real Python Logo',\n",
              " 'Real Python Logo',\n",
              " 'Real Python Logo',\n",
              " 'Real Python Logo',\n",
              " 'Real Python Logo',\n",
              " 'Real Python Logo',\n",
              " 'Real Python Logo',\n",
              " 'Real Python Logo']"
            ]
          },
          "metadata": {},
          "execution_count": 17
        }
      ]
    },
    {
      "cell_type": "code",
      "metadata": {
        "id": "1ynzyXFuDyqV"
      },
      "source": [
        "# Create a dictionnary, first with the key and the corresponding list\n",
        "my_dict2 = {'link':link_img,'alternate':alt_img}\n",
        "im_1 = pd.DataFrame(my_dict2)"
      ],
      "execution_count": 10,
      "outputs": []
    },
    {
      "cell_type": "code",
      "metadata": {
        "colab": {
          "base_uri": "https://localhost:8080/",
          "height": 206
        },
        "id": "YuD3wtsoEJst",
        "outputId": "22aebe0e-2e53-4123-843c-b83d77bfeabd"
      },
      "source": [
        "im_1.head()"
      ],
      "execution_count": 13,
      "outputs": [
        {
          "output_type": "execute_result",
          "data": {
            "text/html": [
              "<div>\n",
              "<style scoped>\n",
              "    .dataframe tbody tr th:only-of-type {\n",
              "        vertical-align: middle;\n",
              "    }\n",
              "\n",
              "    .dataframe tbody tr th {\n",
              "        vertical-align: top;\n",
              "    }\n",
              "\n",
              "    .dataframe thead th {\n",
              "        text-align: right;\n",
              "    }\n",
              "</style>\n",
              "<table border=\"1\" class=\"dataframe\">\n",
              "  <thead>\n",
              "    <tr style=\"text-align: right;\">\n",
              "      <th></th>\n",
              "      <th>link</th>\n",
              "      <th>alternate</th>\n",
              "    </tr>\n",
              "  </thead>\n",
              "  <tbody>\n",
              "    <tr>\n",
              "      <th>0</th>\n",
              "      <td>https://files.realpython.com/media/real-python...</td>\n",
              "      <td>Real Python Logo</td>\n",
              "    </tr>\n",
              "    <tr>\n",
              "      <th>1</th>\n",
              "      <td>https://files.realpython.com/media/real-python...</td>\n",
              "      <td>Real Python Logo</td>\n",
              "    </tr>\n",
              "    <tr>\n",
              "      <th>2</th>\n",
              "      <td>https://files.realpython.com/media/real-python...</td>\n",
              "      <td>Real Python Logo</td>\n",
              "    </tr>\n",
              "    <tr>\n",
              "      <th>3</th>\n",
              "      <td>https://files.realpython.com/media/real-python...</td>\n",
              "      <td>Real Python Logo</td>\n",
              "    </tr>\n",
              "    <tr>\n",
              "      <th>4</th>\n",
              "      <td>https://files.realpython.com/media/real-python...</td>\n",
              "      <td>Real Python Logo</td>\n",
              "    </tr>\n",
              "  </tbody>\n",
              "</table>\n",
              "</div>"
            ],
            "text/plain": [
              "                                                link         alternate\n",
              "0  https://files.realpython.com/media/real-python...  Real Python Logo\n",
              "1  https://files.realpython.com/media/real-python...  Real Python Logo\n",
              "2  https://files.realpython.com/media/real-python...  Real Python Logo\n",
              "3  https://files.realpython.com/media/real-python...  Real Python Logo\n",
              "4  https://files.realpython.com/media/real-python...  Real Python Logo"
            ]
          },
          "metadata": {},
          "execution_count": 13
        }
      ]
    },
    {
      "cell_type": "code",
      "metadata": {
        "id": "QeCrzEP7D_lw"
      },
      "source": [
        "#save the dataframe into a csv file\n",
        "im_1.to_csv(\"my_first_dataframe.csv\")"
      ],
      "execution_count": 11,
      "outputs": []
    },
    {
      "cell_type": "code",
      "metadata": {
        "id": "lGSfEiICEIaU"
      },
      "source": [
        ""
      ],
      "execution_count": null,
      "outputs": []
    }
  ]
}
