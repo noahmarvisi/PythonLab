{
  "nbformat": 4,
  "nbformat_minor": 0,
  "metadata": {
    "colab": {
      "name": "PythonLab_2.ipynb",
      "provenance": [],
      "collapsed_sections": [],
      "toc_visible": true
    },
    "kernelspec": {
      "name": "python3",
      "display_name": "Python 3"
    },
    "language_info": {
      "name": "python"
    }
  },
  "cells": [
    {
      "cell_type": "markdown",
      "metadata": {
        "id": "vAFLMApqfjKF"
      },
      "source": [
        "# **Part 2**"
      ]
    },
    {
      "cell_type": "markdown",
      "metadata": {
        "id": "IJxOOC3ns4Nn"
      },
      "source": [
        "## Clone a Github repository to our Colab"
      ]
    },
    {
      "cell_type": "code",
      "metadata": {
        "colab": {
          "base_uri": "https://localhost:8080/"
        },
        "id": "sOzyt-_xfkmC",
        "outputId": "c10ba9a5-a8ee-4fb2-fc2a-51317c6e997a"
      },
      "source": [
        "!git clone https://github.com/SteBaum/First_Colab_saving.git"
      ],
      "execution_count": 2,
      "outputs": [
        {
          "output_type": "stream",
          "name": "stdout",
          "text": [
            "Cloning into 'First_Colab_saving'...\n",
            "remote: Enumerating objects: 6, done.\u001b[K\n",
            "remote: Counting objects: 100% (6/6), done.\u001b[K\n",
            "remote: Compressing objects: 100% (4/4), done.\u001b[K\n",
            "remote: Total 6 (delta 0), reused 0 (delta 0), pack-reused 0\u001b[K\n",
            "Unpacking objects: 100% (6/6), done.\n"
          ]
        }
      ]
    },
    {
      "cell_type": "markdown",
      "metadata": {
        "id": "rjv2b1P1hI4L"
      },
      "source": [
        "## Variables"
      ]
    },
    {
      "cell_type": "code",
      "metadata": {
        "colab": {
          "base_uri": "https://localhost:8080/"
        },
        "id": "bfMonn0qhLUC",
        "outputId": "7cc73b4c-2502-4de2-d463-b88d0f52c5a5"
      },
      "source": [
        "# Add 2 integers\n",
        "1+2"
      ],
      "execution_count": 15,
      "outputs": [
        {
          "output_type": "execute_result",
          "data": {
            "text/plain": [
              "3"
            ]
          },
          "metadata": {},
          "execution_count": 15
        }
      ]
    },
    {
      "cell_type": "code",
      "metadata": {
        "colab": {
          "base_uri": "https://localhost:8080/"
        },
        "id": "y3-Vi-z9hQ40",
        "outputId": "597dbefe-3f33-41e4-ce85-7a3cb6072aef"
      },
      "source": [
        "# Add a float and an integer\n",
        "2.5+7"
      ],
      "execution_count": 16,
      "outputs": [
        {
          "output_type": "execute_result",
          "data": {
            "text/plain": [
              "9.5"
            ]
          },
          "metadata": {},
          "execution_count": 16
        }
      ]
    },
    {
      "cell_type": "code",
      "metadata": {
        "colab": {
          "base_uri": "https://localhost:8080/"
        },
        "id": "KpDdbIfAhTE0",
        "outputId": "a193ffb7-4e72-4d7b-81d2-eda4206229cc"
      },
      "source": [
        "#Verify that 2.5 is a float\n",
        "type(2.5)"
      ],
      "execution_count": 18,
      "outputs": [
        {
          "output_type": "execute_result",
          "data": {
            "text/plain": [
              "float"
            ]
          },
          "metadata": {},
          "execution_count": 18
        }
      ]
    },
    {
      "cell_type": "markdown",
      "metadata": {
        "id": "LqiwUP32jBxd"
      },
      "source": [
        "To write Natural number symbols in Latex :   $\\mathbb{N}$ $\\mathbb{Z}$\n"
      ]
    },
    {
      "cell_type": "code",
      "metadata": {
        "colab": {
          "base_uri": "https://localhost:8080/"
        },
        "id": "m8LphviQiHPT",
        "outputId": "1de2014e-be0e-408a-f96d-278a4fbf860b"
      },
      "source": [
        "# Division\n",
        "1/2"
      ],
      "execution_count": 20,
      "outputs": [
        {
          "output_type": "execute_result",
          "data": {
            "text/plain": [
              "0.5"
            ]
          },
          "metadata": {},
          "execution_count": 20
        }
      ]
    },
    {
      "cell_type": "code",
      "metadata": {
        "colab": {
          "base_uri": "https://localhost:8080/",
          "height": 35
        },
        "id": "9Z8LIdAmj-7t",
        "outputId": "896ec483-0444-48ad-b682-1b0a64ab2b7e"
      },
      "source": [
        "# Concatenate two strings\n",
        "'Hello'+' '+'everyone'"
      ],
      "execution_count": 21,
      "outputs": [
        {
          "output_type": "execute_result",
          "data": {
            "application/vnd.google.colaboratory.intrinsic+json": {
              "type": "string"
            },
            "text/plain": [
              "'Hello everyone'"
            ]
          },
          "metadata": {},
          "execution_count": 21
        }
      ]
    },
    {
      "cell_type": "code",
      "metadata": {
        "colab": {
          "base_uri": "https://localhost:8080/",
          "height": 35
        },
        "id": "xa0wn9Yloity",
        "outputId": "0b8c6341-8dbf-47a9-eef9-38107986d07f"
      },
      "source": [
        "# Convert an integer to a string\n",
        "str(5)"
      ],
      "execution_count": 34,
      "outputs": [
        {
          "output_type": "execute_result",
          "data": {
            "application/vnd.google.colaboratory.intrinsic+json": {
              "type": "string"
            },
            "text/plain": [
              "'5'"
            ]
          },
          "metadata": {},
          "execution_count": 34
        }
      ]
    },
    {
      "cell_type": "code",
      "metadata": {
        "colab": {
          "base_uri": "https://localhost:8080/",
          "height": 35
        },
        "id": "6EUhP1s2kC5u",
        "outputId": "b538fcf3-001a-4a4c-9f1a-d09d6be73921"
      },
      "source": [
        "# Multiply a string\n",
        "'Hello '*3"
      ],
      "execution_count": 22,
      "outputs": [
        {
          "output_type": "execute_result",
          "data": {
            "application/vnd.google.colaboratory.intrinsic+json": {
              "type": "string"
            },
            "text/plain": [
              "'Hello Hello Hello '"
            ]
          },
          "metadata": {},
          "execution_count": 22
        }
      ]
    },
    {
      "cell_type": "code",
      "metadata": {
        "colab": {
          "base_uri": "https://localhost:8080/",
          "height": 35
        },
        "id": "6LLZDrcskoA_",
        "outputId": "b55c2f8f-e2c0-4edb-b970-182ba184f7ba"
      },
      "source": [
        "# f-strings: Insert variables in a string sentence\n",
        "name = 'Paul'\n",
        "age = 23\n",
        "\n",
        "f'Your name is {name} and you are {age} years old'"
      ],
      "execution_count": 28,
      "outputs": [
        {
          "output_type": "execute_result",
          "data": {
            "application/vnd.google.colaboratory.intrinsic+json": {
              "type": "string"
            },
            "text/plain": [
              "'Your name is Paul and you are 23 years old'"
            ]
          },
          "metadata": {},
          "execution_count": 28
        }
      ]
    },
    {
      "cell_type": "code",
      "metadata": {
        "colab": {
          "base_uri": "https://localhost:8080/",
          "height": 35
        },
        "id": "I59SVTmHk5oJ",
        "outputId": "5c47f874-d487-4185-9420-cdacf301b564"
      },
      "source": [
        "# Another syntax for f-strings\n",
        "\"Hello, {}, you are {}\".format(name,age)"
      ],
      "execution_count": 29,
      "outputs": [
        {
          "output_type": "execute_result",
          "data": {
            "application/vnd.google.colaboratory.intrinsic+json": {
              "type": "string"
            },
            "text/plain": [
              "'Hello, Paul, you are 23'"
            ]
          },
          "metadata": {},
          "execution_count": 29
        }
      ]
    },
    {
      "cell_type": "markdown",
      "metadata": {
        "id": "ZpvxLgFtnUa-"
      },
      "source": [
        "## Functions"
      ]
    },
    {
      "cell_type": "code",
      "metadata": {
        "id": "Y5bd0SiVnCWX"
      },
      "source": [
        "# Function definition\n",
        "def add(a,b):\n",
        "  return(a+b)"
      ],
      "execution_count": 31,
      "outputs": []
    },
    {
      "cell_type": "code",
      "metadata": {
        "colab": {
          "base_uri": "https://localhost:8080/"
        },
        "id": "9BJhPItUncy-",
        "outputId": "dd6a9633-f426-49df-aed0-fdc6aa16be52"
      },
      "source": [
        "# Call the function\n",
        "add(1,3)"
      ],
      "execution_count": 33,
      "outputs": [
        {
          "output_type": "execute_result",
          "data": {
            "text/plain": [
              "4"
            ]
          },
          "metadata": {},
          "execution_count": 33
        }
      ]
    },
    {
      "cell_type": "code",
      "metadata": {
        "colab": {
          "base_uri": "https://localhost:8080/",
          "height": 35
        },
        "id": "6ywFd2SJneZB",
        "outputId": "7c4229f4-0296-419f-f2cd-a77af1de2a65"
      },
      "source": [
        "# A function that concatenates a string and a number\n",
        "def concate_str_nb(my_str,_my_nb):\n",
        "  return(my_str+str(_my_nb))\n",
        "\n",
        "concate_str_nb('Hello ', 5)"
      ],
      "execution_count": 38,
      "outputs": [
        {
          "output_type": "execute_result",
          "data": {
            "application/vnd.google.colaboratory.intrinsic+json": {
              "type": "string"
            },
            "text/plain": [
              "'Hello 5'"
            ]
          },
          "metadata": {},
          "execution_count": 38
        }
      ]
    },
    {
      "cell_type": "markdown",
      "metadata": {
        "id": "VBFzXt1Sr83t"
      },
      "source": [
        "## Data structures"
      ]
    },
    {
      "cell_type": "code",
      "metadata": {
        "id": "tl60hfmZq1fm"
      },
      "source": [
        ""
      ],
      "execution_count": null,
      "outputs": []
    }
  ]
}