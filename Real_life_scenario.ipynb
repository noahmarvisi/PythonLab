{
  "nbformat": 4,
  "nbformat_minor": 0,
  "metadata": {
    "colab": {
      "name": "Real_life_scenario.ipynb",
      "provenance": [],
      "collapsed_sections": []
    },
    "kernelspec": {
      "name": "python3",
      "display_name": "Python 3"
    },
    "language_info": {
      "name": "python"
    }
  },
  "cells": [
    {
      "cell_type": "markdown",
      "source": [
        "**Question 1:**  ...should you choose to accept it*\n",
        "You are supposed to write an algorithm to dehaze images.<br>\n",
        "You are given this paper:\n",
        "https://arxiv.org/pdf/1601.07661.pdf\n",
        "* What is this website ?\n",
        "* What are the main takeaway ideas ?\n",
        "* Which field of AI is it dealing with ?\n",
        "* Do you have coffee nearby ?\n"
      ],
      "metadata": {
        "id": "K2bnGAin3hXO"
      }
    },
    {
      "cell_type": "code",
      "source": [
        ""
      ],
      "metadata": {
        "id": "saOttW5JACBs"
      },
      "execution_count": null,
      "outputs": []
    },
    {
      "cell_type": "code",
      "source": [
        ""
      ],
      "metadata": {
        "id": "synewkl34t_7"
      },
      "execution_count": null,
      "outputs": []
    },
    {
      "cell_type": "markdown",
      "source": [
        "**Question 2:** *It all starts with a git clone*\n",
        "<br>You come across this repository:\n",
        "* https://github.com/thuBingo/DehazeNet_Pytorch\n",
        "\n",
        "Like always the code is not commented\n",
        "  * Where do you start ?"
      ],
      "metadata": {
        "id": "vk0QSw3Z4u2M"
      }
    },
    {
      "cell_type": "code",
      "source": [
        ""
      ],
      "metadata": {
        "id": "l4_kIey8AASW"
      },
      "execution_count": null,
      "outputs": []
    },
    {
      "cell_type": "code",
      "source": [
        ""
      ],
      "metadata": {
        "id": "SZzZtw7xABIU"
      },
      "execution_count": null,
      "outputs": []
    },
    {
      "cell_type": "markdown",
      "source": [
        "**Question 3:** *relative paths, absolute paths...*\n",
        "* What is relative path vs hardcoded path ? Should you use one \n",
        "\n",
        "\n",
        "vs the other?\n",
        "* Can you comment the code and make it usable with relative paths"
      ],
      "metadata": {
        "id": "2puWcQL24-Vq"
      }
    },
    {
      "cell_type": "code",
      "source": [
        ""
      ],
      "metadata": {
        "id": "0sFMsaOj5beW"
      },
      "execution_count": null,
      "outputs": []
    },
    {
      "cell_type": "code",
      "source": [
        "\n"
      ],
      "metadata": {
        "id": "Qn2ftbOi5bbc"
      },
      "execution_count": null,
      "outputs": []
    },
    {
      "cell_type": "markdown",
      "source": [
        "**Question 4:** *the good hunter and the bad hunter*\n",
        "\n",
        "All the code is in 1 file, how can we re-organize the code?\n",
        "Can we reorganize it in 3 files ?\n",
        "  * data processing\n",
        "  * model training\n",
        "  * model evaluation\n",
        "  * How are you going to deal with the imports?"
      ],
      "metadata": {
        "id": "sEJOd_Sl51pW"
      }
    },
    {
      "cell_type": "code",
      "source": [
        ""
      ],
      "metadata": {
        "id": "SdvaN9iv5QFr"
      },
      "execution_count": null,
      "outputs": []
    },
    {
      "cell_type": "code",
      "source": [
        ""
      ],
      "metadata": {
        "id": "SksygRDC5QCr"
      },
      "execution_count": null,
      "outputs": []
    },
    {
      "cell_type": "code",
      "source": [
        ""
      ],
      "metadata": {
        "id": "2x4cIFgH5P57"
      },
      "execution_count": null,
      "outputs": []
    },
    {
      "cell_type": "markdown",
      "source": [
        "**Question5** : *Don't worry if you don't understand Andrew NG*\n",
        "\n",
        "When it comes to dehazing there are 5 relevant features\n",
        "* According to the paper what are these relevant features ?"
      ],
      "metadata": {
        "id": "8Zk6cENw4mX7"
      }
    },
    {
      "cell_type": "markdown",
      "source": [
        "How to read one paper (Andrew NG) ?<br>\n",
        "**Don't start from the first page and finish at last one\n",
        "Read it in multiple passes**<br>\n",
        "1. Read the title, abstracts, figures, experiments\n",
        "2. Go through conclusion, Figures and skip the rest\n",
        "3. Read the rest but skip the math\n",
        "4. Read whole but skip the parts that don't make sense."
      ],
      "metadata": {
        "id": "YIVQgaXr8KuK"
      }
    },
    {
      "cell_type": "code",
      "source": [
        ""
      ],
      "metadata": {
        "id": "sI_2gtA74rcc"
      },
      "execution_count": null,
      "outputs": []
    },
    {
      "cell_type": "code",
      "source": [
        ""
      ],
      "metadata": {
        "id": "Bh0Njk1q5a5G"
      },
      "execution_count": null,
      "outputs": []
    },
    {
      "cell_type": "code",
      "source": [
        ""
      ],
      "metadata": {
        "id": "JX9-2P2Y5a2N"
      },
      "execution_count": null,
      "outputs": []
    },
    {
      "cell_type": "code",
      "source": [
        ""
      ],
      "metadata": {
        "id": "FdKtJjas5aze"
      },
      "execution_count": null,
      "outputs": []
    },
    {
      "cell_type": "markdown",
      "source": [
        "**Question 6:** *What did I just read?*\n",
        "* According to what you have read\n",
        "  * What is the goal of the neural network -\n",
        "classification ? regression ?\n",
        "  * according to the code  What is the goal of the code - classification ? regression ?"
      ],
      "metadata": {
        "id": "L94lOi7bLGOO"
      }
    },
    {
      "cell_type": "code",
      "source": [
        ""
      ],
      "metadata": {
        "id": "bsspvewc5awc"
      },
      "execution_count": null,
      "outputs": []
    },
    {
      "cell_type": "markdown",
      "source": [
        "**Question7**: *a bit of jargon*\n",
        "<br>\n",
        "(Please provide an example for each question)\n",
        "* What is a \"weights\" file ? \n",
        "* What is a pickle file ?\n",
        "* What is *defog4_noaug.pth* ?"
      ],
      "metadata": {
        "id": "9bQ0w4755WQd"
      }
    },
    {
      "cell_type": "code",
      "source": [
        ""
      ],
      "metadata": {
        "id": "6lxog1CbADX8"
      },
      "execution_count": null,
      "outputs": []
    },
    {
      "cell_type": "code",
      "source": [
        ""
      ],
      "metadata": {
        "id": "8Z61_fgAADML"
      },
      "execution_count": null,
      "outputs": []
    },
    {
      "cell_type": "markdown",
      "source": [
        "**Question 8:** *good code is like art... or not*\n",
        "<br>\n",
        "In the defog function below you can see many statements:\n",
        "* Can you explain what the function actually does ?\n",
        "* Is it an efficient way to write code ?\n",
        "* what does the code below mean ?\n",
        "* Can you propose a more efficient way ? no more for loop\n",
        "https://stackoverflow.com/questions/31527755/extract-blocks-or-patches-from-numpy-array\n"
      ],
      "metadata": {
        "id": "jBZA49-W8gsB"
      }
    },
    {
      "cell_type": "code",
      "source": [
        "import numpy as np\n",
        "A= np.array(range(625)).reshape(25,25)\n",
        "print(A[::5,::5])"
      ],
      "metadata": {
        "colab": {
          "base_uri": "https://localhost:8080/"
        },
        "id": "Df0vQ_M1CIR9",
        "outputId": "b4a49522-d605-4556-cfe4-750493f09e1c"
      },
      "execution_count": 8,
      "outputs": [
        {
          "output_type": "stream",
          "name": "stdout",
          "text": [
            "[[  0   5  10  15  20]\n",
            " [125 130 135 140 145]\n",
            " [250 255 260 265 270]\n",
            " [375 380 385 390 395]\n",
            " [500 505 510 515 520]]\n"
          ]
        }
      ]
    },
    {
      "cell_type": "code",
      "source": [
        "def defog(pic_dir):\n",
        "\timg = Image.open(pic_dir)\n",
        "\timg1 = loader(img)\n",
        "\timg2 = transforms.ToTensor()(img)\n",
        "\tc, h, w = img1.shape\n",
        "\tpatch_size = 16\n",
        "\tnum_w = int(w / patch_size)\n",
        "\tnum_h = int(h / patch_size)\n",
        "\tt_list = []\n",
        "\tfor i in range(0, num_w):\n",
        "\t\tfor j in range(0, num_h):\n",
        "\t\t\tpatch = img1[:, 0 + j * patch_size:patch_size + j * patch_size,\n",
        "\t\t\t\t0 + i * patch_size:patch_size + i * patch_size]\n",
        "\t\t\tpatch = torch.unsqueeze(patch, dim=0)\n",
        "\t\t\tt = net(patch)\n",
        "\t\t\tt_list.append([i,j,t])\n",
        "\t\n",
        "\tt_list = sorted(t_list, key=lambda t_list:t_list[2])\n",
        "\ta_list = t_list[:len(t_list)//100]\n",
        "\ta0 = 0\n",
        "\tfor k in range(0,len(a_list)):\n",
        "\t\tpatch = img2[:, 0 + a_list[k][1] * patch_size:patch_size + a_list[k][1] * patch_size,\n",
        "\t\t\t\t0 + a_list[k][0] * patch_size:patch_size + a_list[k][0] * patch_size]\n",
        "\t\ta = torch.max(patch)\n",
        "\t\tif a0 < a.item():\n",
        "\t\t\ta0 = a.item()\n",
        "\tfor k in range(0,len(t_list)):\n",
        "\t\timg2[:, 0 + t_list[k][1] * patch_size:patch_size + t_list[k][1] * patch_size,\n",
        "\t\t\t0 + t_list[k][0] * patch_size:patch_size + t_list[k][0] * patch_size] = (img2[:,\n",
        "\t\t\t0 + t_list[k][1] * patch_size:patch_size + t_list[k][1] * patch_size,\n",
        "\t\t\t0 + t_list[k][0] * patch_size:patch_size + t_list[k][0] * patch_size] - a0*(1-t_list[k][2]))/t_list[k][2]\n",
        "\tdefog_img = transforms.ToPILImage()(img2)\n",
        "\tdefog_img.save('/home/panbing/PycharmProjects/defog/test/test.jpg')\n",
        "\n",
        "\n",
        "defog('/home/panbing/PycharmProjects/defog/test/fogpic.jpg')"
      ],
      "metadata": {
        "id": "WmlhUPow5YfM"
      },
      "execution_count": null,
      "outputs": []
    },
    {
      "cell_type": "markdown",
      "source": [
        "**Question 09**: *one command that chnaged everything*\n",
        "* One friend of ours is not 100% sure of his/her Docker skills& shell commands, can you explain what the commands below would do ?\n"
      ],
      "metadata": {
        "id": "R2XdqfT7y8dR"
      }
    },
    {
      "cell_type": "code",
      "source": [
        "!git clone https://github.com/thuBingo/DehazeNet_Pytorch.git"
      ],
      "metadata": {
        "colab": {
          "base_uri": "https://localhost:8080/"
        },
        "id": "SS4CzPan-dZD",
        "outputId": "a937a508-5a31-4851-cce4-c02256fb09f4"
      },
      "execution_count": 1,
      "outputs": [
        {
          "output_type": "stream",
          "name": "stdout",
          "text": [
            "Cloning into 'DehazeNet_Pytorch'...\n",
            "remote: Enumerating objects: 22, done.\u001b[K\n",
            "remote: Counting objects: 100% (22/22), done.\u001b[K\n",
            "remote: Compressing objects: 100% (22/22), done.\u001b[K\n",
            "remote: Total 22 (delta 9), reused 0 (delta 0), pack-reused 0\u001b[K\n",
            "Unpacking objects: 100% (22/22), done.\n"
          ]
        }
      ]
    },
    {
      "cell_type": "code",
      "source": [
        "cd /content/DehazeNet_Pytorch"
      ],
      "metadata": {
        "colab": {
          "base_uri": "https://localhost:8080/"
        },
        "id": "ry4UK9sm-l85",
        "outputId": "b7c227c8-a02b-4528-8b43-084715c38a54"
      },
      "execution_count": 2,
      "outputs": [
        {
          "output_type": "stream",
          "name": "stdout",
          "text": [
            "/content/DehazeNet_Pytorch\n"
          ]
        }
      ]
    },
    {
      "cell_type": "code",
      "source": [
        "mkdir ./dataset"
      ],
      "metadata": {
        "id": "4DlzNXzW-vgy"
      },
      "execution_count": 3,
      "outputs": []
    },
    {
      "cell_type": "markdown",
      "source": [
        "**Question 10:** *copy paste* \n",
        "\n",
        "* If you have not cloned  the project, please clone it. what command are you going to use ?\n",
        "* Your dehazing function should work, how do you update your github  repository"
      ],
      "metadata": {
        "id": "XwrHT5EdLZyf"
      }
    },
    {
      "cell_type": "code",
      "source": [
        ""
      ],
      "metadata": {
        "id": "_T4jTZkLLjs1"
      },
      "execution_count": null,
      "outputs": []
    },
    {
      "cell_type": "markdown",
      "source": [
        "**Question 11**: *kaggle and its open sea of datasets*"
      ],
      "metadata": {
        "id": "tjF6l4GmzPHH"
      }
    },
    {
      "cell_type": "markdown",
      "source": [
        "* You have been told that there is a great dataset of underwater images available on kaggle.\n",
        "how do you programmatically download it ?\n",
        "* Where will you run this command ?\n",
        "* Is there a problem with colab ?\n",
        "if yes what is the solution ?"
      ],
      "metadata": {
        "id": "67EqMTNk_G24"
      }
    },
    {
      "cell_type": "markdown",
      "source": [
        "### Describe problem 1"
      ],
      "metadata": {
        "id": "Dufp0zJbNI4R"
      }
    },
    {
      "cell_type": "markdown",
      "source": [
        "### Describe  problem 2"
      ],
      "metadata": {
        "id": "TtpCIEWzNK1Y"
      }
    },
    {
      "cell_type": "markdown",
      "source": [
        ""
      ],
      "metadata": {
        "id": "CFYQoMs7zYaR"
      }
    },
    {
      "cell_type": "markdown",
      "source": [
        "**Question 12** *GUI, CLI... API*\n",
        "* What is a CLI?\n",
        "* What do you need to interact with kaggle CLI ?"
      ],
      "metadata": {
        "id": "SEPDivvwzdr2"
      }
    },
    {
      "cell_type": "code",
      "source": [
        "# vous uploadez le fichier kaggle.json dans le répertoire : /root/.kaggle\n",
        "!mkdir /root/.kaggle/\n",
        "!cp /content/kaggle.json /root/.kaggle/"
      ],
      "metadata": {
        "id": "-X1c7oQd_joD"
      },
      "execution_count": 5,
      "outputs": []
    },
    {
      "cell_type": "markdown",
      "source": [
        "**Question 13** *kaggle data*\n",
        "* What are the commands below ?\n",
        "* What is missing in the second cell ?"
      ],
      "metadata": {
        "id": "hPAd00otzv43"
      }
    },
    {
      "cell_type": "code",
      "source": [
        "!chmod 600 /root/.kaggle/kaggle.json"
      ],
      "metadata": {
        "id": "Wq9GHk5HA-hi"
      },
      "execution_count": 10,
      "outputs": []
    },
    {
      "cell_type": "code",
      "source": [
        "!pip uninstall -y kaggle\n",
        "!pip install --upgrade pip\n",
        "!pip install kaggle==1.5.6"
      ],
      "metadata": {
        "id": "Gxsw5X9eCqGq"
      },
      "execution_count": null,
      "outputs": []
    },
    {
      "cell_type": "code",
      "source": [
        "kaggle competitions download -c tensorflow-great-barrier-reef"
      ],
      "metadata": {
        "id": "Vt9g_Scg-zb2"
      },
      "execution_count": null,
      "outputs": []
    },
    {
      "cell_type": "code",
      "source": [
        "!kaggle competitions download -c tensorflow-great-barrier-reef --force\n"
      ],
      "metadata": {
        "colab": {
          "base_uri": "https://localhost:8080/"
        },
        "id": "SJLKcvtYC46L",
        "outputId": "c7e294df-18c4-448d-d711-1c01e66911c9"
      },
      "execution_count": 14,
      "outputs": [
        {
          "output_type": "stream",
          "name": "stdout",
          "text": [
            "Downloading tensorflow-great-barrier-reef.zip to /content/DehazeNet_Pytorch\n",
            "100% 14.2G/14.2G [01:56<00:00, 86.4MB/s]\n",
            "100% 14.2G/14.2G [01:56<00:00, 131MB/s] \n"
          ]
        }
      ]
    },
    {
      "cell_type": "markdown",
      "source": [
        "**Question 14** *deal with zip*\n",
        "* Let's assume you unzipped the file in the **WRONG** folder:\n",
        "  * which command can help you out ?\n",
        "  * How do you zip a folder ?\n",
        "  * How do you zip a file ?\n",
        "  * How many files have you unzipped?\n",
        "  * Where can you see this info?"
      ],
      "metadata": {
        "id": "VEbz7XxnMUQI"
      }
    },
    {
      "cell_type": "code",
      "source": [
        " /content/DehazeNet_Pytorch/*.jpg /content/DehazeNet_Pytorch/dataset/"
      ],
      "metadata": {
        "id": "R-dcPyal_rX3"
      },
      "execution_count": 7,
      "outputs": []
    },
    {
      "cell_type": "markdown",
      "source": [
        "**Question 15** \"just import it\""
      ],
      "metadata": {
        "id": "Q8aDdCmp0QjV"
      }
    },
    {
      "cell_type": "markdown",
      "source": [
        "* You want to try the commands in the code: *test.py* (supplied in the aforementionned Github repository)\n",
        "  * Can you import it as a module ?\n",
        "  * Do you have to be placed in a particular folder ? "
      ],
      "metadata": {
        "id": "y9LMFNRsL5NK"
      }
    },
    {
      "cell_type": "code",
      "source": [
        "import create_dataset"
      ],
      "metadata": {
        "colab": {
          "base_uri": "https://localhost:8080/"
        },
        "id": "igFvtrfgAMry",
        "outputId": "2322c98d-fd64-437e-d696-8daec23c9a01"
      },
      "execution_count": 9,
      "outputs": [
        {
          "output_type": "stream",
          "name": "stderr",
          "text": [
            "100%|██████████| 34/34 [01:11<00:00,  2.11s/it]\n"
          ]
        }
      ]
    },
    {
      "cell_type": "markdown",
      "source": [
        "* If  you run create_dataset does it work ?\n",
        "\n",
        "* If you import create_dataset, what happens?"
      ],
      "metadata": {
        "id": "lxxBLmcGKn3I"
      }
    },
    {
      "cell_type": "markdown",
      "source": [
        "**Question 16:** *important matter*\n",
        "<br>About import and reload: say you've modified the .py file and you want to reload a cell :"
      ],
      "metadata": {
        "id": "SVc9XGm3NQsW"
      }
    },
    {
      "cell_type": "markdown",
      "source": [
        "* If you modify the code in the editor can you run python code in Jupyter without reloading ?\n",
        "* Is there any python commands which let you reload automatically ?"
      ],
      "metadata": {
        "id": "XOoHEwMRMXhp"
      }
    },
    {
      "cell_type": "markdown",
      "source": [
        "**Question 17:** *module update*\n",
        "* What is %load_ext autoreload ?\n",
        "* What is %autoreload 2 ?"
      ],
      "metadata": {
        "id": "9aqf0k-n09lZ"
      }
    },
    {
      "cell_type": "code",
      "source": [
        "%load_ext autoreload\n",
        "%autoreload 2\n",
        "import create_dataset"
      ],
      "metadata": {
        "id": "GLJLeDVHCUgY"
      },
      "execution_count": null,
      "outputs": []
    },
    {
      "cell_type": "markdown",
      "source": [
        "**Question 18:** *if name =='__main__'*\n",
        "<br>\n",
        "In the code you often see \"if name =='__main__'. * Is it necessary ?\n",
        "* what does it do. ?"
      ],
      "metadata": {
        "id": "iM6grKg3MovC"
      }
    },
    {
      "cell_type": "markdown",
      "source": [
        "* what does the command below do ?\n",
        "  * what does -r mean ?\n",
        "  * what does -f mean ?"
      ],
      "metadata": {
        "id": "ZSXbz99lM1HI"
      }
    },
    {
      "cell_type": "markdown",
      "source": [
        "**Question 19:** *with great power comes great responsability*\n",
        "\n",
        "* Does this statement applies for the command below?\n",
        "* What does it do ?"
      ],
      "metadata": {
        "id": "YsttIMpL1NLn"
      }
    },
    {
      "cell_type": "code",
      "source": [
        "!rm -rf  /content/DehazeNet_Pytorch/fogged_dataset"
      ],
      "metadata": {
        "id": "wNSFn5DbKDu3"
      },
      "execution_count": 5,
      "outputs": []
    },
    {
      "cell_type": "markdown",
      "source": [
        "**Question 20:** *Python is so pythonesque*\n",
        "* What is the language below ?\n",
        "* What is it doing ?"
      ],
      "metadata": {
        "id": "75KuEoGD1blF"
      }
    },
    {
      "cell_type": "code",
      "source": [
        "!ls /content/DehazeNet_Pytorch/fogged_dataset | wc -l"
      ],
      "metadata": {
        "colab": {
          "base_uri": "https://localhost:8080/"
        },
        "id": "PXkD3li2HwCw",
        "outputId": "cadf5b54-499f-4fab-9e9b-9e7eb024c09a"
      },
      "execution_count": 7,
      "outputs": [
        {
          "output_type": "stream",
          "name": "stdout",
          "text": [
            "1064286\n"
          ]
        }
      ]
    },
    {
      "cell_type": "code",
      "source": [
        "!cat /content/DehazeNet_Pytorch/path_train.txt | head -10"
      ],
      "metadata": {
        "colab": {
          "base_uri": "https://localhost:8080/"
        },
        "id": "Si97sSBjDLFd",
        "outputId": "1f6ea4b9-a26a-4f4b-e5ef-0c795eb3c100"
      },
      "execution_count": 61,
      "outputs": [
        {
          "output_type": "stream",
          "name": "stdout",
          "text": [
            "/content/DehazeNet_Pytorch/fogged_dataset/11110008.jpg\n",
            "/content/DehazeNet_Pytorch/fogged_dataset/11310008.jpg\n",
            "/content/DehazeNet_Pytorch/fogged_dataset/12110008.jpg\n",
            "/content/DehazeNet_Pytorch/fogged_dataset/12410008.jpg\n",
            "/content/DehazeNet_Pytorch/fogged_dataset/12610008.jpg\n",
            "/content/DehazeNet_Pytorch/fogged_dataset/12710008.jpg\n",
            "/content/DehazeNet_Pytorch/fogged_dataset/13310008.jpg\n",
            "/content/DehazeNet_Pytorch/fogged_dataset/13510008.jpg\n",
            "/content/DehazeNet_Pytorch/fogged_dataset/13710008.jpg\n",
            "/content/DehazeNet_Pytorch/fogged_dataset/13810008.jpg\n"
          ]
        }
      ]
    },
    {
      "cell_type": "code",
      "source": [
        "!echo \"$(ls -d /content/DehazeNet_Pytorch/fogged_dataset| head -1)/$(ls /content/DehazeNet_Pytorch/fogged_dataset| head -1)\" >adder.txt"
      ],
      "metadata": {
        "id": "U9xJEWoEOLU4"
      },
      "execution_count": 57,
      "outputs": []
    },
    {
      "cell_type": "code",
      "source": [
        "!cp \"$(ls -d /content/DehazeNet_Pytorch/fogged_dataset| head -1)/$(ls /content/DehazeNet_Pytorch/fogged_dataset| head -1)\" /content/DehazeNet_Pytorch/test"
      ],
      "metadata": {
        "id": "mOAtO4axOwVN"
      },
      "execution_count": 58,
      "outputs": []
    },
    {
      "cell_type": "markdown",
      "source": [
        "**Question 21** : *a matter of pixel values*\n",
        "* You have generated the files and yet you can't see them.\n",
        "* why is that ?\n",
        "* How can you check a couple of files ?\n",
        "* Which commands can you run ? (to see the n first files ?)"
      ],
      "metadata": {
        "id": "YkavWEXHOLGC"
      }
    },
    {
      "cell_type": "markdown",
      "source": [
        "**Question 22:** *a matter of imports*\n",
        "\n",
        "Can you import DehazeNet-pytorch.py ?\n",
        "* If not why ?\n",
        "* Does the code work ?\n",
        "* Can you import a module when there is a mistake/typo?\n"
      ],
      "metadata": {
        "id": "wNhXgbxAUKWl"
      }
    },
    {
      "cell_type": "markdown",
      "source": [
        "**Question23**: *Getting them images*\n",
        "\n",
        "* How to download random image on the  web ?\n",
        "* What is PIL?\n",
        "* How do you open an image with \n",
        "  * PIL ?\n",
        "  * opencv ?\n",
        "  * matplotlib ?"
      ],
      "metadata": {
        "id": "pccQNOrCUmnL"
      }
    },
    {
      "cell_type": "code",
      "source": [
        "!wget https://cdn.pixabay.com/photo/2019/12/03/20/51/fog-4671042_960_720.jpg"
      ],
      "metadata": {
        "colab": {
          "base_uri": "https://localhost:8080/"
        },
        "id": "ATTkt3woUqWf",
        "outputId": "321136e0-f556-4ccd-add4-42b71697d27b"
      },
      "execution_count": 66,
      "outputs": [
        {
          "output_type": "stream",
          "name": "stdout",
          "text": [
            "--2022-01-23 19:03:49--  https://cdn.pixabay.com/photo/2019/12/03/20/51/fog-4671042_960_720.jpg\n",
            "Resolving cdn.pixabay.com (cdn.pixabay.com)... 104.18.20.183, 104.18.21.183, 2606:4700::6812:14b7, ...\n",
            "Connecting to cdn.pixabay.com (cdn.pixabay.com)|104.18.20.183|:443... connected.\n",
            "HTTP request sent, awaiting response... 200 OK\n",
            "Length: 135630 (132K) [image/jpeg]\n",
            "Saving to: ‘fog-4671042_960_720.jpg’\n",
            "\n",
            "fog-4671042_960_720 100%[===================>] 132.45K  --.-KB/s    in 0.02s   \n",
            "\n",
            "2022-01-23 19:03:50 (5.67 MB/s) - ‘fog-4671042_960_720.jpg’ saved [135630/135630]\n",
            "\n"
          ]
        }
      ]
    },
    {
      "cell_type": "markdown",
      "source": [
        "**Question 24**: *say import one more time*\n",
        "<br>\n",
        "You want to test the code on an image, will the code below work ?"
      ],
      "metadata": {
        "id": "2ZhvOYDpVdb3"
      }
    },
    {
      "cell_type": "code",
      "source": [
        "%load_ext autoreload\n",
        "%autoreload 2\n",
        "import DehazeNet_pytorch"
      ],
      "metadata": {
        "colab": {
          "base_uri": "https://localhost:8080/"
        },
        "id": "Jrp2d20HSFfb",
        "outputId": "aec4f7db-a4eb-442b-e0b6-b463fc4e5f25"
      },
      "execution_count": 87,
      "outputs": [
        {
          "output_type": "stream",
          "name": "stderr",
          "text": [
            "/content/DehazeNet_Pytorch/DehazeNet_pytorch.py:45: UserWarning: nn.init.normal is now deprecated in favor of nn.init.normal_.\n",
            "  if m.bias is not None:\n"
          ]
        },
        {
          "output_type": "stream",
          "name": "stdout",
          "text": [
            "The autoreload extension is already loaded. To reload it, use:\n",
            "  %reload_ext autoreload\n"
          ]
        }
      ]
    },
    {
      "cell_type": "markdown",
      "source": [
        "**Question 24**: *AI detected*\n",
        "* In the code, where is the predictive model declared ?\n",
        "* We don't want to reexecute longparts of the code all the time, what should we do ? \n",
        "  * Is it a good practice to have the code separated in many parts?"
      ],
      "metadata": {
        "id": "LydKSn__V3-m"
      }
    },
    {
      "cell_type": "markdown",
      "source": [
        "**Question 25**: *Hardcoding for life*\n",
        "* In the code, how is the destination path is defined ?\n",
        "* Is it correct ?\n",
        "* What is ARGPARSE ?\n",
        "  * Can we add argparse parameters to make this code easier to run ?"
      ],
      "metadata": {
        "id": "29PmrdMoWs8n"
      }
    },
    {
      "cell_type": "markdown",
      "source": [
        "**Question 25**: *time to smash that button*\n",
        "<br>\n",
        "<br>\n",
        "You might be ready to execute the code.\n",
        "* Is it working - are you running the code on Colab?\n",
        "* Why is it not - What happened?"
      ],
      "metadata": {
        "id": "yWFfB294vfcx"
      }
    },
    {
      "cell_type": "code",
      "source": [
        "%load_ext autoreload\n",
        "%autoreload 2\n",
        "import DehazeNet_pytorch"
      ],
      "metadata": {
        "colab": {
          "base_uri": "https://localhost:8080/"
        },
        "id": "ZLrmyjnVWYaJ",
        "outputId": "382ab620-b3d5-4212-8836-dbecb0bc19bb"
      },
      "execution_count": null,
      "outputs": [
        {
          "output_type": "stream",
          "name": "stderr",
          "text": [
            " 81%|████████  | 27212189/33583973 [00:18<00:04, 1579108.56it/s]"
          ]
        }
      ]
    },
    {
      "cell_type": "markdown",
      "source": [
        "**Question 26**: *My first class*\n",
        "\n",
        "* Let's define a class named car\n",
        "  * attributes = color,brand, max velocity\n",
        "  * function = give the number of wheels, give the max speed"
      ],
      "metadata": {
        "id": "Oechn_vgwMZt"
      }
    },
    {
      "cell_type": "markdown",
      "source": [
        "Must-read : https://realpython.com/python-super/"
      ],
      "metadata": {
        "id": "E0cUz_8q3hOp"
      }
    },
    {
      "cell_type": "markdown",
      "source": [
        "**Question 27**: *My second class*\n",
        "\n",
        "* Have you heard of class inheritance ?$\n",
        "* Let's define a class named **vehicle**\n",
        "  * attributes = color,brand, max velocity\n",
        "  * function = give the number of wheels, give the max speed\n",
        "\n",
        "* Let's define a class named **moto**\n",
        "  * attributes = color,brand, max velocity\n",
        "  * function = give the number of wheels, give the max speed\n",
        "* Let's define a class named car\n",
        "  * attributes = color,brand, max velocity\n",
        "  * function = give the number of wheels, give the max speed"
      ],
      "metadata": {
        "id": "eRDukFjh3POx"
      }
    },
    {
      "cell_type": "markdown",
      "source": [
        "[\"Simple examples - in case you are stuck\"](https://www.edureka.co/blog/inheritance-in-python/)"
      ],
      "metadata": {
        "id": "BLdHoImh_qTC"
      }
    },
    {
      "cell_type": "markdown",
      "source": [
        "**Question 28**: *Torch class*\n",
        "* here is the example\n",
        "* how would you apply it to this particular example ?"
      ],
      "metadata": {
        "id": "KtHYlXCW5_S_"
      }
    },
    {
      "cell_type": "code",
      "source": [
        "import os\n",
        "import pandas as pd\n",
        "\n",
        "from torchvision.io import read_image\n",
        "\n",
        "# inherits from the Dataset class\n",
        "class CustomImageDataset(Dataset):\n",
        "\n",
        "    # init function will be executed when instnatiated\n",
        "    def __init__(self, annotations_file, img_dir, transform=None, target_transform=None):\n",
        "        self.img_labels = pd.read_csv(annotations_file)   # attributes\n",
        "        self.img_dir = img_dir                            # attributes\n",
        "        self.transform = transform                        # attributes\n",
        "        self.target_transform = target_transform          # attributes\n",
        "\n",
        "    # allows you to calculate the length of the instantiated Dataset\n",
        "    def __len__(self):\n",
        "        return len(self.img_labels)\n",
        "\n",
        "    # allows you to  pick 1 element in the dataset\n",
        "    def __getitem__(self, idx):\n",
        "        img_path = os.path.join(self.img_dir, self.img_labels.iloc[idx, 0])\n",
        "        image = read_image(img_path)\n",
        "        label = self.img_labels.iloc[idx, 1]\n",
        "        if self.transform:\n",
        "            image = self.transform(image)\n",
        "        if self.target_transform:\n",
        "            label = self.target_transform(label)\n",
        "        return image, label"
      ],
      "metadata": {
        "id": "i7sJ_UySUBiW"
      },
      "execution_count": 88,
      "outputs": []
    },
    {
      "cell_type": "markdown",
      "source": [
        "**Question 29**: *Torch class*\n",
        "* Here is the example\n",
        "* How would you apply it to this particular example ?\n",
        "* please look @ the example below"
      ],
      "metadata": {
        "id": "5tepkx_c7BFH"
      }
    },
    {
      "cell_type": "markdown",
      "source": [
        "https://stanford.edu/~shervine/blog/pytorch-how-to-generate-data-parallel"
      ],
      "metadata": {
        "id": "dYBglv846xnX"
      }
    },
    {
      "cell_type": "markdown",
      "source": [
        "https://medium.com/analytics-vidhya/pytorch-for-deep-learning-feed-forward-neural-network-d24f5870c18"
      ],
      "metadata": {
        "id": "CATYXl8z68v2"
      }
    },
    {
      "cell_type": "markdown",
      "source": [
        "**Question 30**: *Time to nut up or shut up*\n",
        "* Launch the training !\n"
      ],
      "metadata": {
        "id": "dRpcHWC77Ky5"
      }
    },
    {
      "cell_type": "code",
      "source": [
        ""
      ],
      "metadata": {
        "id": "Et97mPb-7RDx"
      },
      "execution_count": null,
      "outputs": []
    }
  ]
}