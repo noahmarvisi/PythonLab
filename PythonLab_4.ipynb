{
  "nbformat": 4,
  "nbformat_minor": 0,
  "metadata": {
    "colab": {
      "name": "PythonLab4.ipynb",
      "provenance": [],
      "collapsed_sections": [],
      "toc_visible": true
    },
    "kernelspec": {
      "name": "python3",
      "display_name": "Python 3"
    },
    "language_info": {
      "name": "python"
    }
  },
  "cells": [
    {
      "cell_type": "markdown",
      "metadata": {
        "id": "d4IlOZnaWRuq"
      },
      "source": [
        "# **Part 4**"
      ]
    },
    {
      "cell_type": "markdown",
      "metadata": {
        "id": "ooe_4QOoWceC"
      },
      "source": [
        "##Read a file"
      ]
    },
    {
      "cell_type": "code",
      "metadata": {
        "colab": {
          "base_uri": "https://localhost:8080/"
        },
        "id": "ttVVrGiQWT72",
        "outputId": "4fca0298-aab9-4aef-e761-3f30d0afd98d"
      },
      "source": [
        "from google.colab import drive\n",
        "\n",
        "drive.mount('/content/gdrive')"
      ],
      "execution_count": null,
      "outputs": [
        {
          "output_type": "stream",
          "name": "stdout",
          "text": [
            "Mounted at /content/gdrive\n"
          ]
        }
      ]
    },
    {
      "cell_type": "code",
      "metadata": {
        "id": "Xe9saPOFXGmh"
      },
      "source": [
        "my_path = '/content/gdrive/MyDrive/DSTI'\n",
        "my_file = '/content/gdrive/MyDrive/DSTI/corals.txt'"
      ],
      "execution_count": null,
      "outputs": []
    },
    {
      "cell_type": "code",
      "metadata": {
        "colab": {
          "base_uri": "https://localhost:8080/"
        },
        "id": "Ddrqf8TkXZpN",
        "outputId": "80e52a51-9e59-47ec-afa3-bc2af602e1a0"
      },
      "source": [
        "# Open a file\n",
        "f = open(my_file, \"r\")\n",
        "# Read all the lines one by one\n",
        "print(f.readlines())\n",
        "# Close the file\n",
        "f.close()"
      ],
      "execution_count": null,
      "outputs": [
        {
          "output_type": "stream",
          "name": "stdout",
          "text": [
            "['Corals are marine invertebrates within the class Anthozoa of the phylum Cnidaria. They typically form \\n', 'compact colonies of many identical individual polyps. Coral species include the important reef builders \\n', 'that inhabit tropical oceans and secrete calcium carbonate to form a hard skeleton.\\n', '\\n', 'A coral \"group\" is a colony of myriad genetically identical polyps. Each polyp is a sac-like animal typically\\n', ' only a few millimeters in diameter and a few centimeters in height. A set of tentacles surround a central \\n', ' mouth opening. Each polyp excretes an exoskeleton near the base. Over many generations, the colony thus creates \\n', ' a skeleton characteristic of the species which can measure up to several meters in size. Individual colonies \\n', ' grow by asexual reproduction of polyps. Corals also breed sexually by spawning: polyps of the same species \\n', ' release gametes simultaneously overnight, often around a full moon. Fertilized eggs form planulae, a mobile \\n', ' early form of the coral polyp which when mature settles to form a new colony.\\n', '\\n', 'Although some corals are able to catch plankton and small fish using stinging cells on their tentacles, most \\n', 'corals obtain the majority of their energy and nutrients from photosynthetic unicellular dinoflagellates of \\n', 'the genus Symbiodinium that live within their tissues. These are commonly known as zooxanthellae and give the \\n', 'coral color. Such corals require sunlight and grow in clear, shallow water, typically at depths less than 60 \\n', 'metres (200 feet; 33 fathoms). Corals are major contributors to the physical structure of the coral reefs that \\n', 'develop in tropical and subtropical waters, such as the Great Barrier Reef off the coast of Australia. These \\n', 'corals are increasingly at risk of bleaching events where polyps expel the zooxanthellae in response to stress \\n', 'such as high water temperature or toxins.\\n', '\\n', 'Other corals do not rely on zooxanthellae and can live globally in much deeper water, such as the cold-water \\n', 'genus Lophelia which can survive as deep as 3,300 metres (10,800 feet; 1,800 fathoms).[1] Some have been found \\n', 'as far north as the Darwin Mounds, northwest of Cape Wrath, Scotland, and others off the coast of Washington \\n', 'state and the Aleutian Islands.\\n']\n"
          ]
        }
      ]
    },
    {
      "cell_type": "code",
      "metadata": {
        "colab": {
          "base_uri": "https://localhost:8080/"
        },
        "id": "QXdYG_WIXzqx",
        "outputId": "2b496c4f-1fe6-461a-b36d-cbedfe28637e"
      },
      "source": [
        "# To close automatically the file, we can use the \"with\" statement\n",
        "with open(my_file) as f:\n",
        "    lines = f.read() # f.read() reads the file as a single string\n",
        "    print(lines)"
      ],
      "execution_count": null,
      "outputs": [
        {
          "output_type": "stream",
          "name": "stdout",
          "text": [
            "Corals are marine invertebrates within the class Anthozoa of the phylum Cnidaria. They typically form \n",
            "compact colonies of many identical individual polyps. Coral species include the important reef builders \n",
            "that inhabit tropical oceans and secrete calcium carbonate to form a hard skeleton.\n",
            "\n",
            "A coral \"group\" is a colony of myriad genetically identical polyps. Each polyp is a sac-like animal typically\n",
            "only a few millimeters in diameter and a few centimeters in height. A set of tentacles surround a central \n",
            "mouth opening. Each polyp excretes an exoskeleton near the base. Over many generations, the colony thus creates \n",
            "a skeleton characteristic of the species which can measure up to several meters in size. Individual colonies \n",
            "grow by asexual reproduction of polyps. Corals also breed sexually by spawning: polyps of the same species \n",
            "release gametes simultaneously overnight, often around a full moon. Fertilized eggs form planulae, a mobile \n",
            "early form of the coral polyp which when mature settles to form a new colony.\n",
            "\n",
            "Although some corals are able to catch plankton and small fish using stinging cells on their tentacles, most \n",
            "corals obtain the majority of their energy and nutrients from photosynthetic unicellular dinoflagellates of \n",
            "the genus Symbiodinium that live within their tissues. These are commonly known as zooxanthellae and give the \n",
            "coral color. Such corals require sunlight and grow in clear, shallow water, typically at depths less than 60 \n",
            "metres (200 feet; 33 fathoms). Corals are major contributors to the physical structure of the coral reefs that \n",
            "develop in tropical and subtropical waters, such as the Great Barrier Reef off the coast of Australia. These \n",
            "corals are increasingly at risk of bleaching events where polyps expel the zooxanthellae in response to stress \n",
            "such as high water temperature or toxins.\n",
            "\n",
            "Other corals do not rely on zooxanthellae and can live globally in much deeper water, such as the cold-water \n",
            "genus Lophelia which can survive as deep as 3,300 metres (10,800 feet; 1,800 fathoms).[1] Some have been found \n",
            "as far north as the Darwin Mounds, northwest of Cape Wrath, Scotland, and others off the coast of Washington \n",
            "state and the Aleutian Islands.\n",
            "\n"
          ]
        }
      ]
    },
    {
      "cell_type": "code",
      "metadata": {
        "id": "IRfHlLjhX3Gu"
      },
      "source": [
        "# We want to write this as a function\n",
        "def read_a_file(file, option):\n",
        "  '''\n",
        "  '''\n",
        "  with open(file) as f:\n",
        "    if option == 'B':\n",
        "      lines = f.read() # reads the file as a single string / a bulk\n",
        "      print(lines)\n",
        "    elif option == 'L':\n",
        "      lines = f.readlines() # reads the file line by line\n",
        "      print(lines)\n",
        "    else:\n",
        "      print('The second parameter has to be \\'L\\' or \\'B\\'')"
      ],
      "execution_count": null,
      "outputs": []
    },
    {
      "cell_type": "code",
      "metadata": {
        "colab": {
          "base_uri": "https://localhost:8080/"
        },
        "id": "p1vL9dykb47o",
        "outputId": "34cd1ba8-fa14-4c49-eb3f-2517784c9aef"
      },
      "source": [
        "read_a_file(my_file, 'L')"
      ],
      "execution_count": null,
      "outputs": [
        {
          "output_type": "stream",
          "name": "stdout",
          "text": [
            "['Corals are marine invertebrates within the class Anthozoa of the phylum Cnidaria. They typically form \\n', 'compact colonies of many identical individual polyps. Coral species include the important reef builders \\n', 'that inhabit tropical oceans and secrete calcium carbonate to form a hard skeleton.\\n', '\\n', 'A coral \"group\" is a colony of myriad genetically identical polyps. Each polyp is a sac-like animal typically\\n', 'only a few millimeters in diameter and a few centimeters in height. A set of tentacles surround a central \\n', 'mouth opening. Each polyp excretes an exoskeleton near the base. Over many generations, the colony thus creates \\n', 'a skeleton characteristic of the species which can measure up to several meters in size. Individual colonies \\n', 'grow by asexual reproduction of polyps. Corals also breed sexually by spawning: polyps of the same species \\n', 'release gametes simultaneously overnight, often around a full moon. Fertilized eggs form planulae, a mobile \\n', 'early form of the coral polyp which when mature settles to form a new colony.\\n', '\\n', 'Although some corals are able to catch plankton and small fish using stinging cells on their tentacles, most \\n', 'corals obtain the majority of their energy and nutrients from photosynthetic unicellular dinoflagellates of \\n', 'the genus Symbiodinium that live within their tissues. These are commonly known as zooxanthellae and give the \\n', 'coral color. Such corals require sunlight and grow in clear, shallow water, typically at depths less than 60 \\n', 'metres (200 feet; 33 fathoms). Corals are major contributors to the physical structure of the coral reefs that \\n', 'develop in tropical and subtropical waters, such as the Great Barrier Reef off the coast of Australia. These \\n', 'corals are increasingly at risk of bleaching events where polyps expel the zooxanthellae in response to stress \\n', 'such as high water temperature or toxins.\\n', '\\n', 'Other corals do not rely on zooxanthellae and can live globally in much deeper water, such as the cold-water \\n', 'genus Lophelia which can survive as deep as 3,300 metres (10,800 feet; 1,800 fathoms).[1] Some have been found \\n', 'as far north as the Darwin Mounds, northwest of Cape Wrath, Scotland, and others off the coast of Washington \\n', 'state and the Aleutian Islands.\\n']\n"
          ]
        }
      ]
    },
    {
      "cell_type": "code",
      "metadata": {
        "colab": {
          "base_uri": "https://localhost:8080/"
        },
        "id": "Q_sq-nYPcBPV",
        "outputId": "7be06929-10b4-4208-c115-1f9a399cd356"
      },
      "source": [
        "read_a_file(my_file, 'B')"
      ],
      "execution_count": null,
      "outputs": [
        {
          "output_type": "stream",
          "name": "stdout",
          "text": [
            "Corals are marine invertebrates within the class Anthozoa of the phylum Cnidaria. They typically form \n",
            "compact colonies of many identical individual polyps. Coral species include the important reef builders \n",
            "that inhabit tropical oceans and secrete calcium carbonate to form a hard skeleton.\n",
            "\n",
            "A coral \"group\" is a colony of myriad genetically identical polyps. Each polyp is a sac-like animal typically\n",
            "only a few millimeters in diameter and a few centimeters in height. A set of tentacles surround a central \n",
            "mouth opening. Each polyp excretes an exoskeleton near the base. Over many generations, the colony thus creates \n",
            "a skeleton characteristic of the species which can measure up to several meters in size. Individual colonies \n",
            "grow by asexual reproduction of polyps. Corals also breed sexually by spawning: polyps of the same species \n",
            "release gametes simultaneously overnight, often around a full moon. Fertilized eggs form planulae, a mobile \n",
            "early form of the coral polyp which when mature settles to form a new colony.\n",
            "\n",
            "Although some corals are able to catch plankton and small fish using stinging cells on their tentacles, most \n",
            "corals obtain the majority of their energy and nutrients from photosynthetic unicellular dinoflagellates of \n",
            "the genus Symbiodinium that live within their tissues. These are commonly known as zooxanthellae and give the \n",
            "coral color. Such corals require sunlight and grow in clear, shallow water, typically at depths less than 60 \n",
            "metres (200 feet; 33 fathoms). Corals are major contributors to the physical structure of the coral reefs that \n",
            "develop in tropical and subtropical waters, such as the Great Barrier Reef off the coast of Australia. These \n",
            "corals are increasingly at risk of bleaching events where polyps expel the zooxanthellae in response to stress \n",
            "such as high water temperature or toxins.\n",
            "\n",
            "Other corals do not rely on zooxanthellae and can live globally in much deeper water, such as the cold-water \n",
            "genus Lophelia which can survive as deep as 3,300 metres (10,800 feet; 1,800 fathoms).[1] Some have been found \n",
            "as far north as the Darwin Mounds, northwest of Cape Wrath, Scotland, and others off the coast of Washington \n",
            "state and the Aleutian Islands.\n",
            "\n"
          ]
        }
      ]
    },
    {
      "cell_type": "code",
      "metadata": {
        "colab": {
          "base_uri": "https://localhost:8080/"
        },
        "id": "8vonRiR_cDPX",
        "outputId": "cd074e18-7f0f-4678-d94e-7459350ca678"
      },
      "source": [
        "read_a_file(my_file, 'N')"
      ],
      "execution_count": null,
      "outputs": [
        {
          "output_type": "stream",
          "name": "stdout",
          "text": [
            "The second parameter has to be 'L' or 'B'\n"
          ]
        }
      ]
    },
    {
      "cell_type": "code",
      "metadata": {
        "id": "VEROj6TbcVCj"
      },
      "source": [
        ""
      ],
      "execution_count": null,
      "outputs": []
    }
  ]
}
