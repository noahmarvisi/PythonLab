{
  "nbformat": 4,
  "nbformat_minor": 0,
  "metadata": {
    "colab": {
      "name": "PythonLab_3.ipynb",
      "provenance": [],
      "collapsed_sections": []
    },
    "kernelspec": {
      "name": "python3",
      "display_name": "Python 3"
    },
    "language_info": {
      "name": "python"
    }
  },
  "cells": [
    {
      "cell_type": "markdown",
      "metadata": {
        "id": "pFHgqlb78XTY"
      },
      "source": [
        "# **Part 3: File management**"
      ]
    },
    {
      "cell_type": "markdown",
      "metadata": {
        "id": "KUKCijtdDGMl"
      },
      "source": [
        "## os"
      ]
    },
    {
      "cell_type": "code",
      "metadata": {
        "colab": {
          "base_uri": "https://localhost:8080/"
        },
        "id": "vfgfEj1F8NQ6",
        "outputId": "deff2aad-5b16-43c2-f55e-b932b6cf69d3"
      },
      "source": [
        "from google.colab import drive\n",
        "\n",
        "drive.mount('/content/gdrive')"
      ],
      "execution_count": null,
      "outputs": [
        {
          "output_type": "stream",
          "name": "stdout",
          "text": [
            "Mounted at /content/gdrive\n"
          ]
        }
      ]
    },
    {
      "cell_type": "code",
      "metadata": {
        "id": "ApiIdsDKNmo4"
      },
      "source": [
        "# Import\n",
        "import os\n",
        "import glob"
      ],
      "execution_count": null,
      "outputs": []
    },
    {
      "cell_type": "code",
      "metadata": {
        "id": "VWnctNiZNsS1"
      },
      "source": [
        "# My folder path\n",
        "my_folder = '/content/gdrive/MyDrive/DSTI'"
      ],
      "execution_count": null,
      "outputs": []
    },
    {
      "cell_type": "code",
      "metadata": {
        "colab": {
          "base_uri": "https://localhost:8080/"
        },
        "id": "vHKk8q6V9lBA",
        "outputId": "47ea868d-c177-4b39-d50a-82d95137a86a"
      },
      "source": [
        "# List the files and subfolders in a given folder                                                     os.listdir\n",
        "my_files_and_folders = os.listdir(my_folder)\n",
        "my_files_and_folders"
      ],
      "execution_count": null,
      "outputs": [
        {
          "output_type": "execute_result",
          "data": {
            "text/plain": [
              "['A21-Simuation_GradesFinalResults.xlsx',\n",
              " 'colab_exercise_data.csv',\n",
              " 'BreastCancer']"
            ]
          },
          "metadata": {},
          "execution_count": 87
        }
      ]
    },
    {
      "cell_type": "code",
      "metadata": {
        "colab": {
          "base_uri": "https://localhost:8080/"
        },
        "id": "mcvX8Jg3Mm9g",
        "outputId": "d831b4a8-4ac3-4282-af2c-b1fea251069d"
      },
      "source": [
        "# Join the my_folder path to the name of the files and subfolders to get the full paths               os.path.join\n",
        "[os.path.join(my_folder, my_files_and_folders[i]) for i in range(len(my_files_and_folders))]"
      ],
      "execution_count": null,
      "outputs": [
        {
          "output_type": "execute_result",
          "data": {
            "text/plain": [
              "['/content/gdrive/MyDrive/DSTI/A21-Simuation_GradesFinalResults.xlsx',\n",
              " '/content/gdrive/MyDrive/DSTI/colab_exercise_data.csv',\n",
              " '/content/gdrive/MyDrive/DSTI/BreastCancer']"
            ]
          },
          "metadata": {},
          "execution_count": 81
        }
      ]
    },
    {
      "cell_type": "code",
      "metadata": {
        "colab": {
          "base_uri": "https://localhost:8080/"
        },
        "id": "hqOAADsdNYgJ",
        "outputId": "9a5ab79c-1bda-4f28-f42c-0ae310f53af6"
      },
      "source": [
        "# Another way to get full paths with os.scandir                                                       os.scandir\n",
        "my_files_and_folders = [ f.path for f in os.scandir(my_folder)]\n",
        "my_files_and_folders"
      ],
      "execution_count": null,
      "outputs": [
        {
          "output_type": "execute_result",
          "data": {
            "text/plain": [
              "['/content/gdrive/MyDrive/DSTI/A21-Simuation_GradesFinalResults.xlsx',\n",
              " '/content/gdrive/MyDrive/DSTI/colab_exercise_data.csv',\n",
              " '/content/gdrive/MyDrive/DSTI/BreastCancer']"
            ]
          },
          "metadata": {},
          "execution_count": 83
        }
      ]
    },
    {
      "cell_type": "code",
      "metadata": {
        "colab": {
          "base_uri": "https://localhost:8080/"
        },
        "id": "V0ISj_kGAp_3",
        "outputId": "2893f0a9-9ec9-41a1-8dd5-b2ee134e3e3a"
      },
      "source": [
        "# Return all the subfolders full paths in the given folder                                            is_dir()\n",
        "subfolders = [ f.path for f in os.scandir(my_folder) if f.is_dir() ]\n",
        "subfolders"
      ],
      "execution_count": null,
      "outputs": [
        {
          "output_type": "execute_result",
          "data": {
            "text/plain": [
              "['/content/gdrive/MyDrive/DSTI/BreastCancer']"
            ]
          },
          "metadata": {},
          "execution_count": 76
        }
      ]
    },
    {
      "cell_type": "code",
      "metadata": {
        "colab": {
          "base_uri": "https://localhost:8080/"
        },
        "id": "s9OkuLU_GbBi",
        "outputId": "3f64419d-a457-4f4a-f3cc-4ca0563127c9"
      },
      "source": [
        "# Return the files in a given folder                                                                  is_file()\n",
        "my_files = [ f.path for f in os.scandir(my_folder) if f.is_file() ]\n",
        "my_files"
      ],
      "execution_count": null,
      "outputs": [
        {
          "output_type": "execute_result",
          "data": {
            "text/plain": [
              "['/content/gdrive/MyDrive/DSTI/A21-Simuation_GradesFinalResults.xlsx',\n",
              " '/content/gdrive/MyDrive/DSTI/colab_exercise_data.csv']"
            ]
          },
          "metadata": {},
          "execution_count": 70
        }
      ]
    },
    {
      "cell_type": "code",
      "metadata": {
        "colab": {
          "base_uri": "https://localhost:8080/"
        },
        "id": "7qC98kuCA-CZ",
        "outputId": "6291c681-ad1c-4de2-eadf-41a07b6013c1"
      },
      "source": [
        "# List the xlsx files only (files that finish with \".xlsx\")                                           endswith()\n",
        "[my_files[i] for i in range(len(v)) if v[i].endswith('.xlsx')]"
      ],
      "execution_count": null,
      "outputs": [
        {
          "output_type": "execute_result",
          "data": {
            "text/plain": [
              "['/content/gdrive/MyDrive/DSTI/A21-Simuation_GradesFinalResults.xlsx']"
            ]
          },
          "metadata": {},
          "execution_count": 71
        }
      ]
    },
    {
      "cell_type": "code",
      "metadata": {
        "colab": {
          "base_uri": "https://localhost:8080/"
        },
        "id": "pmdo0QmKGUvf",
        "outputId": "a527f074-c4e7-4d3f-99c7-b9cf225ebf7e"
      },
      "source": [
        "# Count the nb of .xlsx files in my_path\n",
        "len([my_files[i] for i in range(len(v)) if v[i].endswith('.xlsx')]) "
      ],
      "execution_count": null,
      "outputs": [
        {
          "output_type": "execute_result",
          "data": {
            "text/plain": [
              "1"
            ]
          },
          "metadata": {},
          "execution_count": 72
        }
      ]
    },
    {
      "cell_type": "code",
      "metadata": {
        "id": "MMo4ZH-yVxDX"
      },
      "source": [
        "# A function that returns all the files in the given formats\n",
        "def list_of_files(my_path, formats):\n",
        "  '''\n",
        "  returns all the files in the path that have one of the given formats\n",
        "  formats example: ('.json','.txt','.xlsx') or ['.json','.txt','.xlsx']\n",
        "  '''\n",
        "  # Make sure the formats variable is a tuple\n",
        "  formats = tuple(formats)\n",
        "  # List of all files\n",
        "  elements = [ f.path for f in os.scandir(my_path) if f.is_file() ]\n",
        "  # List of files in the given formats\n",
        "  elements2 = [elements[i] for i in range(len(elements)) if elements[i].endswith(formats)]\n",
        "  \n",
        "  return elements2"
      ],
      "execution_count": null,
      "outputs": []
    },
    {
      "cell_type": "code",
      "metadata": {
        "colab": {
          "base_uri": "https://localhost:8080/"
        },
        "id": "9p_bcW94WXWP",
        "outputId": "ac25e541-83c0-4124-9f8d-60b32ea4a105"
      },
      "source": [
        "# Call the previous function\n",
        "p = '/content/sample_data'\n",
        "f = ['.csv', '.json']\n",
        "\n",
        "list_of_files(p,f)"
      ],
      "execution_count": null,
      "outputs": [
        {
          "output_type": "execute_result",
          "data": {
            "text/plain": [
              "['/content/sample_data/anscombe.json',\n",
              " '/content/sample_data/california_housing_train.csv',\n",
              " '/content/sample_data/mnist_test.csv',\n",
              " '/content/sample_data/mnist_train_small.csv',\n",
              " '/content/sample_data/california_housing_test.csv']"
            ]
          },
          "metadata": {},
          "execution_count": 132
        }
      ]
    },
    {
      "cell_type": "markdown",
      "metadata": {
        "id": "z-paRN4aClR4"
      },
      "source": [
        "## glob2"
      ]
    },
    {
      "cell_type": "code",
      "metadata": {
        "id": "k9PYZvOPCnTK"
      },
      "source": [
        "import glob2\n",
        "import itertools"
      ],
      "execution_count": null,
      "outputs": []
    },
    {
      "cell_type": "code",
      "metadata": {
        "colab": {
          "base_uri": "https://localhost:8080/"
        },
        "id": "7g-SphwdCufA",
        "outputId": "551c6403-3a69-4157-8c8f-197f28552960"
      },
      "source": [
        "# Return all the csv files in the my_folder folder\n",
        "extensions = \"*.csv\"\n",
        "filenames = glob2.glob(os.path.join(my_folder, extensions))\n",
        "filenames"
      ],
      "execution_count": null,
      "outputs": [
        {
          "output_type": "execute_result",
          "data": {
            "text/plain": [
              "['/content/gdrive/MyDrive/DSTI/colab_exercise_data.csv']"
            ]
          },
          "metadata": {},
          "execution_count": 182
        }
      ]
    },
    {
      "cell_type": "code",
      "metadata": {
        "id": "yGrAbUnDZEUl"
      },
      "source": [
        "# Trying to do this with multiple extentions\n",
        "extensions = [\"*.csv\", \"*.json\"]"
      ],
      "execution_count": null,
      "outputs": []
    },
    {
      "cell_type": "code",
      "metadata": {
        "colab": {
          "base_uri": "https://localhost:8080/"
        },
        "id": "chS9v4eudqDr",
        "outputId": "7eda9edf-7eb2-4744-8158-aec369938223"
      },
      "source": [
        "filenames = [glob2.glob(os.path.join(p, i)) for i in extensions]\n",
        "filenames"
      ],
      "execution_count": null,
      "outputs": [
        {
          "output_type": "execute_result",
          "data": {
            "text/plain": [
              "[['/content/sample_data/california_housing_train.csv',\n",
              "  '/content/sample_data/mnist_test.csv',\n",
              "  '/content/sample_data/mnist_train_small.csv',\n",
              "  '/content/sample_data/california_housing_test.csv'],\n",
              " ['/content/sample_data/anscombe.json']]"
            ]
          },
          "metadata": {},
          "execution_count": 181
        }
      ]
    },
    {
      "cell_type": "code",
      "metadata": {
        "colab": {
          "base_uri": "https://localhost:8080/"
        },
        "id": "It1l16mQfd-U",
        "outputId": "55e7944a-774e-43a6-aa4e-25add99e93f9"
      },
      "source": [
        "# Flatten the returned list (we only want 1 list)\n",
        "list(itertools.chain(*filenames))"
      ],
      "execution_count": null,
      "outputs": [
        {
          "output_type": "execute_result",
          "data": {
            "text/plain": [
              "['/',\n",
              " 'c',\n",
              " 'o',\n",
              " 'n',\n",
              " 't',\n",
              " 'e',\n",
              " 'n',\n",
              " 't',\n",
              " '/',\n",
              " 'g',\n",
              " 'd',\n",
              " 'r',\n",
              " 'i',\n",
              " 'v',\n",
              " 'e',\n",
              " '/',\n",
              " 'M',\n",
              " 'y',\n",
              " 'D',\n",
              " 'r',\n",
              " 'i',\n",
              " 'v',\n",
              " 'e',\n",
              " '/',\n",
              " 'D',\n",
              " 'S',\n",
              " 'T',\n",
              " 'I',\n",
              " '/',\n",
              " 'c',\n",
              " 'o',\n",
              " 'l',\n",
              " 'a',\n",
              " 'b',\n",
              " '_',\n",
              " 'e',\n",
              " 'x',\n",
              " 'e',\n",
              " 'r',\n",
              " 'c',\n",
              " 'i',\n",
              " 's',\n",
              " 'e',\n",
              " '_',\n",
              " 'd',\n",
              " 'a',\n",
              " 't',\n",
              " 'a',\n",
              " '.',\n",
              " 'c',\n",
              " 's',\n",
              " 'v']"
            ]
          },
          "metadata": {},
          "execution_count": 193
        }
      ]
    }
  ]
}